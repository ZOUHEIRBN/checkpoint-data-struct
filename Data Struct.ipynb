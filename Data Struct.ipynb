{
 "cells": [
  {
   "cell_type": "code",
   "execution_count": 7,
   "id": "3c105908-16c2-4db2-ac1d-9c584b29830a",
   "metadata": {},
   "outputs": [
    {
     "name": "stdout",
     "output_type": "stream",
     "text": [
      "Bonjour Hicham , je m'appelle Zouheir\n"
     ]
    }
   ],
   "source": [
    "nom = \"Hicham\"\n",
    "print(\"Bonjour\", nom, \", je m'appelle Zouheir\")"
   ]
  },
  {
   "cell_type": "code",
   "execution_count": 10,
   "id": "23039a6d-0245-4854-b18b-25719dd753d7",
   "metadata": {},
   "outputs": [
    {
     "name": "stdout",
     "output_type": "stream",
     "text": [
      "Bonjour Hicham, je m'appelle Zouheir\n"
     ]
    }
   ],
   "source": [
    "nom = \"Hicham\"\n",
    "print(f\"Bonjour {nom}, je m'appelle Zouheir\")"
   ]
  },
  {
   "cell_type": "code",
   "execution_count": 21,
   "id": "861766fc-93d0-4a20-b70c-f3d0735e9b18",
   "metadata": {},
   "outputs": [
    {
     "name": "stdout",
     "output_type": "stream",
     "text": [
      "Bonjour Hicham, je m'appelle Zouheir\n",
      "Bonjour Abdelmajid, je m'appelle Zouheir\n",
      "Bonjour Achraf, je m'appelle Zouheir\n",
      "Bonjour Narjiss, je m'appelle Zouheir\n",
      "Bonjour Fouzia, je m'appelle Zouheir\n",
      "Bonjour Fatima, je m'appelle Zouheir\n",
      "Bonjour Dernier, je m'appelle Zouheir\n"
     ]
    }
   ],
   "source": [
    "names = [\n",
    "    'Zouheir', 'Hicham', 'Abdelmajid', \n",
    "    'Achraf', 'Fouzia', 'Fatima'\n",
    "]\n",
    "names.insert(4, 'Narjiss')\n",
    "names.append('Dernier')\n",
    "for x in names:\n",
    "    if x == 'Zouheir':\n",
    "        continue\n",
    "    print(f\"Bonjour {x}, je m'appelle Zouheir\")"
   ]
  },
  {
   "cell_type": "code",
   "execution_count": 32,
   "id": "dd79f8ee-48fd-4cfd-9196-ac31a79806ac",
   "metadata": {},
   "outputs": [
    {
     "name": "stdout",
     "output_type": "stream",
     "text": [
      "Fatima est a cote de Zouheir\n",
      "Zouheir est a cote de Hicham\n",
      "Hicham est a cote de Abdelmajid\n",
      "Abdelmajid est a cote de Achraf\n",
      "Achraf est a cote de Narjiss\n",
      "Narjiss est a cote de Fouzia\n",
      "Fouzia est a cote de Fatima\n"
     ]
    }
   ],
   "source": [
    "names = ['Zouheir', 'Hicham', 'Abdelmajid', 'Achraf', 'Narjiss', 'Fouzia', 'Fatima']\n",
    "for i in range(len(names)):\n",
    "    print(f\"{names[i-1]} est a cote de {names[i]}\")"
   ]
  },
  {
   "cell_type": "code",
   "execution_count": 30,
   "id": "b9f5e6d6-5730-4609-84d8-49f7c3bee86b",
   "metadata": {},
   "outputs": [
    {
     "data": {
      "text/plain": [
       "['Narjiss', 'Fouzia', 'Fatima']"
      ]
     },
     "execution_count": 30,
     "metadata": {},
     "output_type": "execute_result"
    }
   ],
   "source": [
    "names[-3:]"
   ]
  },
  {
   "cell_type": "code",
   "execution_count": null,
   "id": "bb3904fd-868f-4563-83b6-a689083680b7",
   "metadata": {},
   "outputs": [],
   "source": []
  }
 ],
 "metadata": {
  "kernelspec": {
   "display_name": "Python 3 (ipykernel)",
   "language": "python",
   "name": "python3"
  },
  "language_info": {
   "codemirror_mode": {
    "name": "ipython",
    "version": 3
   },
   "file_extension": ".py",
   "mimetype": "text/x-python",
   "name": "python",
   "nbconvert_exporter": "python",
   "pygments_lexer": "ipython3",
   "version": "3.11.5"
  }
 },
 "nbformat": 4,
 "nbformat_minor": 5
}
